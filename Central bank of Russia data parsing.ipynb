{
 "cells": [
  {
   "cell_type": "code",
   "execution_count": 1,
   "metadata": {},
   "outputs": [],
   "source": [
    "import requests\n",
    "import pandas as pd\n",
    "import numpy as np\n",
    "import json\n",
    "import re\n",
    "from bs4 import BeautifulSoup"
   ]
  },
  {
   "cell_type": "code",
   "execution_count": 2,
   "metadata": {},
   "outputs": [],
   "source": [
    "# поиск по запросу \"отозвана\"\n",
    "link = 'https://www.cbr.ru/press/month_archive/press_archive/?UniDbQuery.Posted=True&UniDbQuery.Phrase=%D0%BE%D1%82%D0%BE%D0%B7%D0%B2%D0%B0%D0%BD%D0%B0&UniDbQuery.Search=0&UniDbQuery.FromDate=01.01.2020&UniDbQuery.ToDate=21.02.2020'\n",
    "page = requests.get(link).content\n",
    "soup1=BeautifulSoup(page, 'html.parser')"
   ]
  },
  {
   "cell_type": "code",
   "execution_count": 3,
   "metadata": {
    "scrolled": true
   },
   "outputs": [],
   "source": [
    "#объекты с основной информацией и датой\n",
    "urls_inf = soup1.find_all('div', attrs = {'class': 'link'})\n",
    "urls_date = soup1.find_all('div', attrs = {'class': 'source'})"
   ]
  },
  {
   "cell_type": "markdown",
   "metadata": {},
   "source": [
    "### Тестовые списки"
   ]
  },
  {
   "cell_type": "code",
   "execution_count": 4,
   "metadata": {},
   "outputs": [
    {
     "data": {
      "text/plain": [
       "['Отозвана лицензия на осуществление банковских операций у АКБ «АПАБАНК» (АО)',\n",
       " 'Отозвана лицензия на осуществление банковских операций у АО «НВКбанк»',\n",
       " 'Отозвана лицензия на осуществление банковских операций у ПАО КБ «ПФС-БАНК»',\n",
       " 'Отозвана лицензия на осуществление банковских операций у ООО КБ «Нэклис-Банк»']"
      ]
     },
     "execution_count": 4,
     "metadata": {},
     "output_type": "execute_result"
    }
   ],
   "source": [
    "#Название пресс-релиза\n",
    "title_press = []\n",
    "for i in urls_inf:\n",
    "    test = i.getText(separator=u'/').strip()\n",
    "    title_press.append(test)\n",
    "title_press"
   ]
  },
  {
   "cell_type": "code",
   "execution_count": 5,
   "metadata": {},
   "outputs": [
    {
     "data": {
      "text/plain": [
       "['АКБ «АПАБАНК» (АО)',\n",
       " 'АО «НВКбанк»',\n",
       " 'ПАО КБ «ПФС-БАНК»',\n",
       " 'ООО КБ «Нэклис-Банк»']"
      ]
     },
     "execution_count": 5,
     "metadata": {},
     "output_type": "execute_result"
    }
   ],
   "source": [
    "#Название банка\n",
    "title = []\n",
    "for i in title_press:\n",
    "    l = i.find(' у ') + 3\n",
    "    title.append(i[l:])\n",
    "title\n",
    "    "
   ]
  },
  {
   "cell_type": "code",
   "execution_count": 6,
   "metadata": {},
   "outputs": [
    {
     "data": {
      "text/plain": [
       "['31.01.2020', '24.01.2020', '17.01.2020', '10.01.2020']"
      ]
     },
     "execution_count": 6,
     "metadata": {},
     "output_type": "execute_result"
    }
   ],
   "source": [
    "#дата пресс-релиза\n",
    "date = []\n",
    "for i in urls_date:\n",
    "    test = i.getText(separator=u'/').strip()\n",
    "    date.append(test)\n",
    "date"
   ]
  },
  {
   "cell_type": "code",
   "execution_count": 7,
   "metadata": {},
   "outputs": [
    {
     "data": {
      "text/plain": [
       "['https://www.cbr.ru/press/PR/?file=31012020_083642ik2020-01-31T08_36_04.htm',\n",
       " 'https://www.cbr.ru/press/PR/?file=24012020_074026ik2020-01-24T07_39_24.htm',\n",
       " 'https://www.cbr.ru/press/PR/?file=17012020_083449ik2020-01-17T08_33_40.htm',\n",
       " 'https://www.cbr.ru/press/PR/?file=10012020_083823ik2020-01-10T08_37_09.htm']"
      ]
     },
     "execution_count": 7,
     "metadata": {},
     "output_type": "execute_result"
    }
   ],
   "source": [
    "#Ссылка на пресс-релиз\n",
    "lin_fin = []\n",
    "for a in urls_inf:\n",
    "    z = a.find('a', href=True)\n",
    "    lin_fin.append('https://www.cbr.ru/press' + z['href'][5:])\n",
    "lin_fin    "
   ]
  },
  {
   "cell_type": "markdown",
   "metadata": {},
   "source": [
    "### Серьезные дела"
   ]
  },
  {
   "cell_type": "code",
   "execution_count": 8,
   "metadata": {},
   "outputs": [],
   "source": [
    "months=list(range(1,12))\n",
    "years=list(range(2006,2020))"
   ]
  },
  {
   "cell_type": "code",
   "execution_count": 9,
   "metadata": {},
   "outputs": [],
   "source": [
    "inf_sum = []\n",
    "date_sum = []\n",
    "\n",
    "for i in range(2006, 2021):\n",
    "    for k in range(1, 11, 3):\n",
    "        if any( [k == 4, k == 7]):\n",
    "            link = 'https://www.cbr.ru/press/month_archive/press_archive/?UniDbQuery.Posted=True&UniDbQuery.' + 'Phrase=%D0%BE%D1%82%D0%BE%D0%B7%D0%B2%D0%B0%D0%BD%D0%B0&UniDbQuery.Search=0&UniDbQuery.FromDate=01.' + str(k) + '.' + str(i) + '&UniDbQuery.ToDate=30.' + str(k+2) + '.' + str(i)\n",
    "            page = requests.get(link).content\n",
    "            soup1=BeautifulSoup(page, 'html.parser')\n",
    "            urls_inf = soup1.find_all('div', attrs = {'class': 'link'})\n",
    "            urls_date = soup1.find_all('div', attrs = {'class': 'source'})\n",
    "            inf_sum = inf_sum + urls_inf\n",
    "            date_sum = date_sum + urls_date\n",
    "        else:\n",
    "            link = 'https://www.cbr.ru/press/month_archive/press_archive/?UniDbQuery.Posted=True&UniDbQuery.' + 'Phrase=%D0%BE%D1%82%D0%BE%D0%B7%D0%B2%D0%B0%D0%BD%D0%B0&UniDbQuery.Search=0&UniDbQuery.FromDate=01.' + str(k) + '.' + str(i) + '&UniDbQuery.ToDate=31.' + str(k+2) + '.' + str(i)\n",
    "            page = requests.get(link).content\n",
    "            soup1=BeautifulSoup(page, 'html.parser')\n",
    "            urls_inf = soup1.find_all('div', attrs = {'class': 'link'})\n",
    "            urls_date = soup1.find_all('div', attrs = {'class': 'source'})\n",
    "            inf_sum = inf_sum + urls_inf\n",
    "            date_sum = date_sum + urls_date\n",
    "            "
   ]
  },
  {
   "cell_type": "code",
   "execution_count": 10,
   "metadata": {},
   "outputs": [],
   "source": [
    "#Название пресс-релиза\n",
    "title_press1 = []\n",
    "for i in inf_sum:\n",
    "    test = i.getText(separator=u'/').strip()\n",
    "    title_press1.append(test)"
   ]
  },
  {
   "cell_type": "code",
   "execution_count": 11,
   "metadata": {},
   "outputs": [],
   "source": [
    "#дата пресс-релиза\n",
    "date1 = []\n",
    "for i in date_sum:\n",
    "    test = i.getText(separator=u'/').strip()\n",
    "    date1.append(test)"
   ]
  },
  {
   "cell_type": "code",
   "execution_count": 12,
   "metadata": {},
   "outputs": [],
   "source": [
    "#Ссылка на пресс-релиз\n",
    "lin_fin1 = []\n",
    "for a in inf_sum:\n",
    "    z = a.find('a', href=True)\n",
    "    lin_fin1.append('https://www.cbr.ru/press' + z['href'][5:])"
   ]
  },
  {
   "cell_type": "code",
   "execution_count": 13,
   "metadata": {},
   "outputs": [
    {
     "data": {
      "text/html": [
       "<div>\n",
       "<style scoped>\n",
       "    .dataframe tbody tr th:only-of-type {\n",
       "        vertical-align: middle;\n",
       "    }\n",
       "\n",
       "    .dataframe tbody tr th {\n",
       "        vertical-align: top;\n",
       "    }\n",
       "\n",
       "    .dataframe thead th {\n",
       "        text-align: right;\n",
       "    }\n",
       "</style>\n",
       "<table border=\"1\" class=\"dataframe\">\n",
       "  <thead>\n",
       "    <tr style=\"text-align: right;\">\n",
       "      <th></th>\n",
       "      <th>Title</th>\n",
       "      <th>Date</th>\n",
       "      <th>Link</th>\n",
       "    </tr>\n",
       "  </thead>\n",
       "  <tbody>\n",
       "    <tr>\n",
       "      <td>0</td>\n",
       "      <td>Об отзыве лицензии и назначении временной адми...</td>\n",
       "      <td>30.03.2006</td>\n",
       "      <td>https://www.cbr.ru/press/PR/?file=060330_09334...</td>\n",
       "    </tr>\n",
       "    <tr>\n",
       "      <td>1</td>\n",
       "      <td>Об отзыве лицензии на осуществление банковских...</td>\n",
       "      <td>26.01.2006</td>\n",
       "      <td>https://www.cbr.ru/press/PR/?file=060126_09213...</td>\n",
       "    </tr>\n",
       "    <tr>\n",
       "      <td>2</td>\n",
       "      <td>Об отзыве лицензии и назначении временной адми...</td>\n",
       "      <td>30.03.2006</td>\n",
       "      <td>https://www.cbr.ru/press/PR/?file=060330_09334...</td>\n",
       "    </tr>\n",
       "    <tr>\n",
       "      <td>3</td>\n",
       "      <td>Об отзыве лицензии и назначении временной адми...</td>\n",
       "      <td>23.03.2006</td>\n",
       "      <td>https://www.cbr.ru/press/PR/?file=060323_09310...</td>\n",
       "    </tr>\n",
       "    <tr>\n",
       "      <td>4</td>\n",
       "      <td>Об отзыве лицензии на осуществление банковских...</td>\n",
       "      <td>27.02.2006</td>\n",
       "      <td>https://www.cbr.ru/press/PR/?file=060227_09343...</td>\n",
       "    </tr>\n",
       "    <tr>\n",
       "      <td>...</td>\n",
       "      <td>...</td>\n",
       "      <td>...</td>\n",
       "      <td>...</td>\n",
       "    </tr>\n",
       "    <tr>\n",
       "      <td>723</td>\n",
       "      <td>Отозвана лицензия на осуществление банковских ...</td>\n",
       "      <td>01.11.2019</td>\n",
       "      <td>https://www.cbr.ru/press/PR/?file=01112019_054...</td>\n",
       "    </tr>\n",
       "    <tr>\n",
       "      <td>724</td>\n",
       "      <td>Отозвана лицензия на осуществление банковских ...</td>\n",
       "      <td>31.01.2020</td>\n",
       "      <td>https://www.cbr.ru/press/PR/?file=31012020_083...</td>\n",
       "    </tr>\n",
       "    <tr>\n",
       "      <td>725</td>\n",
       "      <td>Отозвана лицензия на осуществление банковских ...</td>\n",
       "      <td>24.01.2020</td>\n",
       "      <td>https://www.cbr.ru/press/PR/?file=24012020_074...</td>\n",
       "    </tr>\n",
       "    <tr>\n",
       "      <td>726</td>\n",
       "      <td>Отозвана лицензия на осуществление банковских ...</td>\n",
       "      <td>17.01.2020</td>\n",
       "      <td>https://www.cbr.ru/press/PR/?file=17012020_083...</td>\n",
       "    </tr>\n",
       "    <tr>\n",
       "      <td>727</td>\n",
       "      <td>Отозвана лицензия на осуществление банковских ...</td>\n",
       "      <td>10.01.2020</td>\n",
       "      <td>https://www.cbr.ru/press/PR/?file=10012020_083...</td>\n",
       "    </tr>\n",
       "  </tbody>\n",
       "</table>\n",
       "<p>728 rows × 3 columns</p>\n",
       "</div>"
      ],
      "text/plain": [
       "                                                 Title        Date  \\\n",
       "0    Об отзыве лицензии и назначении временной адми...  30.03.2006   \n",
       "1    Об отзыве лицензии на осуществление банковских...  26.01.2006   \n",
       "2    Об отзыве лицензии и назначении временной адми...  30.03.2006   \n",
       "3    Об отзыве лицензии и назначении временной адми...  23.03.2006   \n",
       "4    Об отзыве лицензии на осуществление банковских...  27.02.2006   \n",
       "..                                                 ...         ...   \n",
       "723  Отозвана лицензия на осуществление банковских ...  01.11.2019   \n",
       "724  Отозвана лицензия на осуществление банковских ...  31.01.2020   \n",
       "725  Отозвана лицензия на осуществление банковских ...  24.01.2020   \n",
       "726  Отозвана лицензия на осуществление банковских ...  17.01.2020   \n",
       "727  Отозвана лицензия на осуществление банковских ...  10.01.2020   \n",
       "\n",
       "                                                  Link  \n",
       "0    https://www.cbr.ru/press/PR/?file=060330_09334...  \n",
       "1    https://www.cbr.ru/press/PR/?file=060126_09213...  \n",
       "2    https://www.cbr.ru/press/PR/?file=060330_09334...  \n",
       "3    https://www.cbr.ru/press/PR/?file=060323_09310...  \n",
       "4    https://www.cbr.ru/press/PR/?file=060227_09343...  \n",
       "..                                                 ...  \n",
       "723  https://www.cbr.ru/press/PR/?file=01112019_054...  \n",
       "724  https://www.cbr.ru/press/PR/?file=31012020_083...  \n",
       "725  https://www.cbr.ru/press/PR/?file=24012020_074...  \n",
       "726  https://www.cbr.ru/press/PR/?file=17012020_083...  \n",
       "727  https://www.cbr.ru/press/PR/?file=10012020_083...  \n",
       "\n",
       "[728 rows x 3 columns]"
      ]
     },
     "execution_count": 13,
     "metadata": {},
     "output_type": "execute_result"
    }
   ],
   "source": [
    "#Создание таблицы\n",
    "dict1 = {'Title': title_press1,\n",
    "         'Date': date1,\n",
    "         'Link': lin_fin1}\n",
    "df=pd.DataFrame(dict1)\n",
    "df\n"
   ]
  },
  {
   "cell_type": "code",
   "execution_count": 14,
   "metadata": {},
   "outputs": [
    {
     "data": {
      "text/plain": [
       "728"
      ]
     },
     "execution_count": 14,
     "metadata": {},
     "output_type": "execute_result"
    }
   ],
   "source": [
    "#Проверка на дупликаты\n",
    "len(df.Link.unique())"
   ]
  },
  {
   "cell_type": "code",
   "execution_count": 15,
   "metadata": {},
   "outputs": [],
   "source": [
    "##### Пробую проделать с запросом отзыв\n",
    "inf_sum2 = []\n",
    "date_sum2 = []\n",
    "\n",
    "for i in range(2006, 2021):\n",
    "    for k in range(1, 11, 3):\n",
    "        if any( [k == 4, k == 7]):\n",
    "            link = 'https://www.cbr.ru/press/month_archive/press_archive/?UniDbQuery.Posted=True&UniDbQuery.Phrase=%D0%BE%D1%82%D0%B7%D1%8B%D0%B2&UniDbQuery.Search=0&UniDbQuery.FromDate=01.' + str(k) + '.' + str(i) + '&UniDbQuery.ToDate=30.' + str(k+2) + '.' + str(i)\n",
    "            page = requests.get(link).content\n",
    "            soup2=BeautifulSoup(page, 'html.parser')\n",
    "            urls_inf2 = soup2.find_all('div', attrs = {'class': 'link'})\n",
    "            urls_date2 = soup2.find_all('div', attrs = {'class': 'source'})\n",
    "            inf_sum2 = inf_sum2 + urls_inf2\n",
    "            date_sum2 = date_sum2 + urls_date2\n",
    "        else:\n",
    "            link = 'https://www.cbr.ru/press/month_archive/press_archive/?UniDbQuery.Posted=True&UniDbQuery.Phrase=%D0%BE%D1%82%D0%B7%D1%8B%D0%B2&UniDbQuery.Search=0&UniDbQuery.FromDate=01.' + str(k) + '.' + str(i) + '&UniDbQuery.ToDate=31.' + str(k+2) + '.' + str(i)\n",
    "            page = requests.get(link).content\n",
    "            soup2=BeautifulSoup(page, 'html.parser')\n",
    "            urls_inf2 = soup2.find_all('div', attrs = {'class': 'link'})\n",
    "            urls_date2 = soup2.find_all('div', attrs = {'class': 'source'})\n",
    "            inf_sum2 = inf_sum2 + urls_inf2\n",
    "            date_sum2 = date_sum2 + urls_date2"
   ]
  },
  {
   "cell_type": "code",
   "execution_count": 16,
   "metadata": {},
   "outputs": [],
   "source": [
    "#Название пресс-релиза\n",
    "title_press2 = []\n",
    "for i in inf_sum2:\n",
    "    test2 = i.getText(separator=u'/').strip()\n",
    "    title_press2.append(test2)"
   ]
  },
  {
   "cell_type": "code",
   "execution_count": 17,
   "metadata": {},
   "outputs": [],
   "source": [
    "#дата пресс-релиза\n",
    "date2 = []\n",
    "for i in date_sum2:\n",
    "    test2 = i.getText(separator=u'/').strip()\n",
    "    date2.append(test2)"
   ]
  },
  {
   "cell_type": "code",
   "execution_count": 18,
   "metadata": {},
   "outputs": [],
   "source": [
    "#Ссылка на пресс-релиз\n",
    "lin_fin2 = []\n",
    "for a in inf_sum2:\n",
    "    z2 = a.find('a', href=True)\n",
    "    lin_fin2.append('https://www.cbr.ru/press' + z2['href'][5:])"
   ]
  },
  {
   "cell_type": "code",
   "execution_count": 19,
   "metadata": {},
   "outputs": [
    {
     "data": {
      "text/html": [
       "<div>\n",
       "<style scoped>\n",
       "    .dataframe tbody tr th:only-of-type {\n",
       "        vertical-align: middle;\n",
       "    }\n",
       "\n",
       "    .dataframe tbody tr th {\n",
       "        vertical-align: top;\n",
       "    }\n",
       "\n",
       "    .dataframe thead th {\n",
       "        text-align: right;\n",
       "    }\n",
       "</style>\n",
       "<table border=\"1\" class=\"dataframe\">\n",
       "  <thead>\n",
       "    <tr style=\"text-align: right;\">\n",
       "      <th></th>\n",
       "      <th>Title</th>\n",
       "      <th>Date</th>\n",
       "      <th>Link</th>\n",
       "    </tr>\n",
       "  </thead>\n",
       "  <tbody>\n",
       "    <tr>\n",
       "      <td>0</td>\n",
       "      <td>Об отзыве лицензии на осуществление банковских...</td>\n",
       "      <td>26.01.2006</td>\n",
       "      <td>https://www.cbr.ru/press/PR/?file=060126_09213...</td>\n",
       "    </tr>\n",
       "    <tr>\n",
       "      <td>1</td>\n",
       "      <td>Об отзыве лицензии на осуществление банковских...</td>\n",
       "      <td>04.05.2006</td>\n",
       "      <td>https://www.cbr.ru/press/PR/?file=060504_09310...</td>\n",
       "    </tr>\n",
       "    <tr>\n",
       "      <td>2</td>\n",
       "      <td>Об отзыве лицензии на осуществление банковских...</td>\n",
       "      <td>24.08.2006</td>\n",
       "      <td>https://www.cbr.ru/press/PR/?file=060824_09330...</td>\n",
       "    </tr>\n",
       "    <tr>\n",
       "      <td>3</td>\n",
       "      <td>Об отзыве лицензии на осуществление банковских...</td>\n",
       "      <td>17.07.2006</td>\n",
       "      <td>https://www.cbr.ru/press/PR/?file=060717_11451...</td>\n",
       "    </tr>\n",
       "    <tr>\n",
       "      <td>4</td>\n",
       "      <td>Об отзыве лицензии на осуществление банковских...</td>\n",
       "      <td>10.08.2006</td>\n",
       "      <td>https://www.cbr.ru/press/PR/?file=060810_10112...</td>\n",
       "    </tr>\n",
       "    <tr>\n",
       "      <td>...</td>\n",
       "      <td>...</td>\n",
       "      <td>...</td>\n",
       "      <td>...</td>\n",
       "    </tr>\n",
       "    <tr>\n",
       "      <td>448</td>\n",
       "      <td>Об отзыве у банка «РТС-Банк» лицензии на осуще...</td>\n",
       "      <td>14.03.2019</td>\n",
       "      <td>https://www.cbr.ru/press/PR/?file=14032019_074...</td>\n",
       "    </tr>\n",
       "    <tr>\n",
       "      <td>449</td>\n",
       "      <td>Об отзыве у банка «РАДИОТЕХБАНК» лицензии на о...</td>\n",
       "      <td>31.01.2019</td>\n",
       "      <td>https://www.cbr.ru/press/PR/?file=31012019_083...</td>\n",
       "    </tr>\n",
       "    <tr>\n",
       "      <td>450</td>\n",
       "      <td>Об отзыве у банка «Еврокапитал-Альянс» лицензи...</td>\n",
       "      <td>25.01.2019</td>\n",
       "      <td>https://www.cbr.ru/press/PR/?file=25012019_083...</td>\n",
       "    </tr>\n",
       "    <tr>\n",
       "      <td>451</td>\n",
       "      <td>Об отзыве у банка «РОСКОМСНАББАНК» лицензии на...</td>\n",
       "      <td>07.03.2019</td>\n",
       "      <td>https://www.cbr.ru/press/PR/?file=07032019_065...</td>\n",
       "    </tr>\n",
       "    <tr>\n",
       "      <td>452</td>\n",
       "      <td>Об отзыве у банка «Камчаткомагропромбанк» лице...</td>\n",
       "      <td>30.01.2019</td>\n",
       "      <td>https://www.cbr.ru/press/PR/?file=30012019_233...</td>\n",
       "    </tr>\n",
       "  </tbody>\n",
       "</table>\n",
       "<p>453 rows × 3 columns</p>\n",
       "</div>"
      ],
      "text/plain": [
       "                                                 Title        Date  \\\n",
       "0    Об отзыве лицензии на осуществление банковских...  26.01.2006   \n",
       "1    Об отзыве лицензии на осуществление банковских...  04.05.2006   \n",
       "2    Об отзыве лицензии на осуществление банковских...  24.08.2006   \n",
       "3    Об отзыве лицензии на осуществление банковских...  17.07.2006   \n",
       "4    Об отзыве лицензии на осуществление банковских...  10.08.2006   \n",
       "..                                                 ...         ...   \n",
       "448  Об отзыве у банка «РТС-Банк» лицензии на осуще...  14.03.2019   \n",
       "449  Об отзыве у банка «РАДИОТЕХБАНК» лицензии на о...  31.01.2019   \n",
       "450  Об отзыве у банка «Еврокапитал-Альянс» лицензи...  25.01.2019   \n",
       "451  Об отзыве у банка «РОСКОМСНАББАНК» лицензии на...  07.03.2019   \n",
       "452  Об отзыве у банка «Камчаткомагропромбанк» лице...  30.01.2019   \n",
       "\n",
       "                                                  Link  \n",
       "0    https://www.cbr.ru/press/PR/?file=060126_09213...  \n",
       "1    https://www.cbr.ru/press/PR/?file=060504_09310...  \n",
       "2    https://www.cbr.ru/press/PR/?file=060824_09330...  \n",
       "3    https://www.cbr.ru/press/PR/?file=060717_11451...  \n",
       "4    https://www.cbr.ru/press/PR/?file=060810_10112...  \n",
       "..                                                 ...  \n",
       "448  https://www.cbr.ru/press/PR/?file=14032019_074...  \n",
       "449  https://www.cbr.ru/press/PR/?file=31012019_083...  \n",
       "450  https://www.cbr.ru/press/PR/?file=25012019_083...  \n",
       "451  https://www.cbr.ru/press/PR/?file=07032019_065...  \n",
       "452  https://www.cbr.ru/press/PR/?file=30012019_233...  \n",
       "\n",
       "[453 rows x 3 columns]"
      ]
     },
     "execution_count": 19,
     "metadata": {},
     "output_type": "execute_result"
    }
   ],
   "source": [
    "#Создание таблицы\n",
    "dict2 = {'Title': title_press2,\n",
    "         'Date': date2,\n",
    "         'Link': lin_fin2}\n",
    "df2=pd.DataFrame(dict2)\n",
    "df2"
   ]
  },
  {
   "cell_type": "code",
   "execution_count": 20,
   "metadata": {},
   "outputs": [
    {
     "data": {
      "text/plain": [
       "453"
      ]
     },
     "execution_count": 20,
     "metadata": {},
     "output_type": "execute_result"
    }
   ],
   "source": [
    "len(df2.Link.unique())"
   ]
  },
  {
   "cell_type": "code",
   "execution_count": 21,
   "metadata": {},
   "outputs": [],
   "source": [
    "### Сливаю таблички\n",
    "data_new = pd.concat([df, df2] , axis = 0)"
   ]
  },
  {
   "cell_type": "code",
   "execution_count": 22,
   "metadata": {},
   "outputs": [
    {
     "data": {
      "text/html": [
       "<div>\n",
       "<style scoped>\n",
       "    .dataframe tbody tr th:only-of-type {\n",
       "        vertical-align: middle;\n",
       "    }\n",
       "\n",
       "    .dataframe tbody tr th {\n",
       "        vertical-align: top;\n",
       "    }\n",
       "\n",
       "    .dataframe thead th {\n",
       "        text-align: right;\n",
       "    }\n",
       "</style>\n",
       "<table border=\"1\" class=\"dataframe\">\n",
       "  <thead>\n",
       "    <tr style=\"text-align: right;\">\n",
       "      <th></th>\n",
       "      <th>Title</th>\n",
       "      <th>Date</th>\n",
       "      <th>Link</th>\n",
       "    </tr>\n",
       "  </thead>\n",
       "  <tbody>\n",
       "    <tr>\n",
       "      <td>0</td>\n",
       "      <td>Об отзыве лицензии и назначении временной адми...</td>\n",
       "      <td>30.03.2006</td>\n",
       "      <td>https://www.cbr.ru/press/PR/?file=060330_09334...</td>\n",
       "    </tr>\n",
       "    <tr>\n",
       "      <td>1</td>\n",
       "      <td>Об отзыве лицензии на осуществление банковских...</td>\n",
       "      <td>26.01.2006</td>\n",
       "      <td>https://www.cbr.ru/press/PR/?file=060126_09213...</td>\n",
       "    </tr>\n",
       "    <tr>\n",
       "      <td>2</td>\n",
       "      <td>Об отзыве лицензии и назначении временной адми...</td>\n",
       "      <td>30.03.2006</td>\n",
       "      <td>https://www.cbr.ru/press/PR/?file=060330_09334...</td>\n",
       "    </tr>\n",
       "    <tr>\n",
       "      <td>3</td>\n",
       "      <td>Об отзыве лицензии и назначении временной адми...</td>\n",
       "      <td>23.03.2006</td>\n",
       "      <td>https://www.cbr.ru/press/PR/?file=060323_09310...</td>\n",
       "    </tr>\n",
       "    <tr>\n",
       "      <td>4</td>\n",
       "      <td>Об отзыве лицензии на осуществление банковских...</td>\n",
       "      <td>27.02.2006</td>\n",
       "      <td>https://www.cbr.ru/press/PR/?file=060227_09343...</td>\n",
       "    </tr>\n",
       "    <tr>\n",
       "      <td>...</td>\n",
       "      <td>...</td>\n",
       "      <td>...</td>\n",
       "      <td>...</td>\n",
       "    </tr>\n",
       "    <tr>\n",
       "      <td>448</td>\n",
       "      <td>Об отзыве у банка «РТС-Банк» лицензии на осуще...</td>\n",
       "      <td>14.03.2019</td>\n",
       "      <td>https://www.cbr.ru/press/PR/?file=14032019_074...</td>\n",
       "    </tr>\n",
       "    <tr>\n",
       "      <td>449</td>\n",
       "      <td>Об отзыве у банка «РАДИОТЕХБАНК» лицензии на о...</td>\n",
       "      <td>31.01.2019</td>\n",
       "      <td>https://www.cbr.ru/press/PR/?file=31012019_083...</td>\n",
       "    </tr>\n",
       "    <tr>\n",
       "      <td>450</td>\n",
       "      <td>Об отзыве у банка «Еврокапитал-Альянс» лицензи...</td>\n",
       "      <td>25.01.2019</td>\n",
       "      <td>https://www.cbr.ru/press/PR/?file=25012019_083...</td>\n",
       "    </tr>\n",
       "    <tr>\n",
       "      <td>451</td>\n",
       "      <td>Об отзыве у банка «РОСКОМСНАББАНК» лицензии на...</td>\n",
       "      <td>07.03.2019</td>\n",
       "      <td>https://www.cbr.ru/press/PR/?file=07032019_065...</td>\n",
       "    </tr>\n",
       "    <tr>\n",
       "      <td>452</td>\n",
       "      <td>Об отзыве у банка «Камчаткомагропромбанк» лице...</td>\n",
       "      <td>30.01.2019</td>\n",
       "      <td>https://www.cbr.ru/press/PR/?file=30012019_233...</td>\n",
       "    </tr>\n",
       "  </tbody>\n",
       "</table>\n",
       "<p>1181 rows × 3 columns</p>\n",
       "</div>"
      ],
      "text/plain": [
       "                                                 Title        Date  \\\n",
       "0    Об отзыве лицензии и назначении временной адми...  30.03.2006   \n",
       "1    Об отзыве лицензии на осуществление банковских...  26.01.2006   \n",
       "2    Об отзыве лицензии и назначении временной адми...  30.03.2006   \n",
       "3    Об отзыве лицензии и назначении временной адми...  23.03.2006   \n",
       "4    Об отзыве лицензии на осуществление банковских...  27.02.2006   \n",
       "..                                                 ...         ...   \n",
       "448  Об отзыве у банка «РТС-Банк» лицензии на осуще...  14.03.2019   \n",
       "449  Об отзыве у банка «РАДИОТЕХБАНК» лицензии на о...  31.01.2019   \n",
       "450  Об отзыве у банка «Еврокапитал-Альянс» лицензи...  25.01.2019   \n",
       "451  Об отзыве у банка «РОСКОМСНАББАНК» лицензии на...  07.03.2019   \n",
       "452  Об отзыве у банка «Камчаткомагропромбанк» лице...  30.01.2019   \n",
       "\n",
       "                                                  Link  \n",
       "0    https://www.cbr.ru/press/PR/?file=060330_09334...  \n",
       "1    https://www.cbr.ru/press/PR/?file=060126_09213...  \n",
       "2    https://www.cbr.ru/press/PR/?file=060330_09334...  \n",
       "3    https://www.cbr.ru/press/PR/?file=060323_09310...  \n",
       "4    https://www.cbr.ru/press/PR/?file=060227_09343...  \n",
       "..                                                 ...  \n",
       "448  https://www.cbr.ru/press/PR/?file=14032019_074...  \n",
       "449  https://www.cbr.ru/press/PR/?file=31012019_083...  \n",
       "450  https://www.cbr.ru/press/PR/?file=25012019_083...  \n",
       "451  https://www.cbr.ru/press/PR/?file=07032019_065...  \n",
       "452  https://www.cbr.ru/press/PR/?file=30012019_233...  \n",
       "\n",
       "[1181 rows x 3 columns]"
      ]
     },
     "execution_count": 22,
     "metadata": {},
     "output_type": "execute_result"
    }
   ],
   "source": [
    "data_new"
   ]
  },
  {
   "cell_type": "code",
   "execution_count": 23,
   "metadata": {},
   "outputs": [
    {
     "data": {
      "text/plain": [
       "732"
      ]
     },
     "execution_count": 23,
     "metadata": {},
     "output_type": "execute_result"
    }
   ],
   "source": [
    "len(data_new.Link.unique())"
   ]
  },
  {
   "cell_type": "code",
   "execution_count": 24,
   "metadata": {},
   "outputs": [
    {
     "data": {
      "text/html": [
       "<div>\n",
       "<style scoped>\n",
       "    .dataframe tbody tr th:only-of-type {\n",
       "        vertical-align: middle;\n",
       "    }\n",
       "\n",
       "    .dataframe tbody tr th {\n",
       "        vertical-align: top;\n",
       "    }\n",
       "\n",
       "    .dataframe thead th {\n",
       "        text-align: right;\n",
       "    }\n",
       "</style>\n",
       "<table border=\"1\" class=\"dataframe\">\n",
       "  <thead>\n",
       "    <tr style=\"text-align: right;\">\n",
       "      <th></th>\n",
       "      <th>Title</th>\n",
       "      <th>Date</th>\n",
       "      <th>Link</th>\n",
       "    </tr>\n",
       "  </thead>\n",
       "  <tbody>\n",
       "    <tr>\n",
       "      <td>0</td>\n",
       "      <td>Об отзыве лицензии и назначении временной адми...</td>\n",
       "      <td>30.03.2006</td>\n",
       "      <td>https://www.cbr.ru/press/PR/?file=060330_09334...</td>\n",
       "    </tr>\n",
       "    <tr>\n",
       "      <td>1</td>\n",
       "      <td>Об отзыве лицензии на осуществление банковских...</td>\n",
       "      <td>26.01.2006</td>\n",
       "      <td>https://www.cbr.ru/press/PR/?file=060126_09213...</td>\n",
       "    </tr>\n",
       "    <tr>\n",
       "      <td>2</td>\n",
       "      <td>Об отзыве лицензии и назначении временной адми...</td>\n",
       "      <td>30.03.2006</td>\n",
       "      <td>https://www.cbr.ru/press/PR/?file=060330_09334...</td>\n",
       "    </tr>\n",
       "    <tr>\n",
       "      <td>3</td>\n",
       "      <td>Об отзыве лицензии и назначении временной адми...</td>\n",
       "      <td>23.03.2006</td>\n",
       "      <td>https://www.cbr.ru/press/PR/?file=060323_09310...</td>\n",
       "    </tr>\n",
       "    <tr>\n",
       "      <td>4</td>\n",
       "      <td>Об отзыве лицензии на осуществление банковских...</td>\n",
       "      <td>27.02.2006</td>\n",
       "      <td>https://www.cbr.ru/press/PR/?file=060227_09343...</td>\n",
       "    </tr>\n",
       "    <tr>\n",
       "      <td>...</td>\n",
       "      <td>...</td>\n",
       "      <td>...</td>\n",
       "      <td>...</td>\n",
       "    </tr>\n",
       "    <tr>\n",
       "      <td>727</td>\n",
       "      <td>Отозвана лицензия на осуществление банковских ...</td>\n",
       "      <td>10.01.2020</td>\n",
       "      <td>https://www.cbr.ru/press/PR/?file=10012020_083...</td>\n",
       "    </tr>\n",
       "    <tr>\n",
       "      <td>728</td>\n",
       "      <td>Об отзыве лицензии на осуществление банковских...</td>\n",
       "      <td>17.07.2006</td>\n",
       "      <td>https://www.cbr.ru/press/PR/?file=060717_11451...</td>\n",
       "    </tr>\n",
       "    <tr>\n",
       "      <td>729</td>\n",
       "      <td>Об Указании Банка России от 17 сентября 2009 г...</td>\n",
       "      <td>06.11.2009</td>\n",
       "      <td>https://www.cbr.ru/press/PR/?file=091106_16533...</td>\n",
       "    </tr>\n",
       "    <tr>\n",
       "      <td>730</td>\n",
       "      <td>Об информации Фонда гарантирования вкладов физ...</td>\n",
       "      <td>11.04.2013</td>\n",
       "      <td>https://www.cbr.ru/press/PR/?file=130411_18530...</td>\n",
       "    </tr>\n",
       "    <tr>\n",
       "      <td>731</td>\n",
       "      <td>Об отзыве у банка «РТС-Банк» лицензии на осуще...</td>\n",
       "      <td>14.03.2019</td>\n",
       "      <td>https://www.cbr.ru/press/PR/?file=14032019_074...</td>\n",
       "    </tr>\n",
       "  </tbody>\n",
       "</table>\n",
       "<p>732 rows × 3 columns</p>\n",
       "</div>"
      ],
      "text/plain": [
       "                                                 Title        Date  \\\n",
       "0    Об отзыве лицензии и назначении временной адми...  30.03.2006   \n",
       "1    Об отзыве лицензии на осуществление банковских...  26.01.2006   \n",
       "2    Об отзыве лицензии и назначении временной адми...  30.03.2006   \n",
       "3    Об отзыве лицензии и назначении временной адми...  23.03.2006   \n",
       "4    Об отзыве лицензии на осуществление банковских...  27.02.2006   \n",
       "..                                                 ...         ...   \n",
       "727  Отозвана лицензия на осуществление банковских ...  10.01.2020   \n",
       "728  Об отзыве лицензии на осуществление банковских...  17.07.2006   \n",
       "729  Об Указании Банка России от 17 сентября 2009 г...  06.11.2009   \n",
       "730  Об информации Фонда гарантирования вкладов физ...  11.04.2013   \n",
       "731  Об отзыве у банка «РТС-Банк» лицензии на осуще...  14.03.2019   \n",
       "\n",
       "                                                  Link  \n",
       "0    https://www.cbr.ru/press/PR/?file=060330_09334...  \n",
       "1    https://www.cbr.ru/press/PR/?file=060126_09213...  \n",
       "2    https://www.cbr.ru/press/PR/?file=060330_09334...  \n",
       "3    https://www.cbr.ru/press/PR/?file=060323_09310...  \n",
       "4    https://www.cbr.ru/press/PR/?file=060227_09343...  \n",
       "..                                                 ...  \n",
       "727  https://www.cbr.ru/press/PR/?file=10012020_083...  \n",
       "728  https://www.cbr.ru/press/PR/?file=060717_11451...  \n",
       "729  https://www.cbr.ru/press/PR/?file=091106_16533...  \n",
       "730  https://www.cbr.ru/press/PR/?file=130411_18530...  \n",
       "731  https://www.cbr.ru/press/PR/?file=14032019_074...  \n",
       "\n",
       "[732 rows x 3 columns]"
      ]
     },
     "execution_count": 24,
     "metadata": {},
     "output_type": "execute_result"
    }
   ],
   "source": [
    "data_new.drop_duplicates(subset =\"Link\", \n",
    "                     keep = 'first', inplace = True) \n",
    "#data_new.iloc[:,0]\n",
    "df = data_new.reset_index(drop=True)\n",
    "df"
   ]
  },
  {
   "cell_type": "code",
   "execution_count": 39,
   "metadata": {},
   "outputs": [
    {
     "data": {
      "text/plain": [
       "'https://www.cbr.ru/press/PR/?file=060330_093346bank1.htm'"
      ]
     },
     "execution_count": 39,
     "metadata": {},
     "output_type": "execute_result"
    }
   ],
   "source": [
    "df['Link'][0]"
   ]
  },
  {
   "cell_type": "markdown",
   "metadata": {},
   "source": [
    "### Вытаскиваем текст (тест)"
   ]
  },
  {
   "cell_type": "code",
   "execution_count": 25,
   "metadata": {},
   "outputs": [],
   "source": [
    "dop = 'https://www.cbr.ru/press/PR/?file=31012020_083642ik2020-01-31T08_36_04.htm'\n",
    "krot = requests.get(dop).content.decode('utf-8')\n",
    "enot=BeautifulSoup(krot, 'html.parser')"
   ]
  },
  {
   "cell_type": "code",
   "execution_count": 35,
   "metadata": {
    "scrolled": true
   },
   "outputs": [
    {
     "data": {
      "text/plain": [
       "[<p>\n",
       " <p>Банк России приказом от 31.01.2020 № ОД-166 отозвал лицензию на осуществление банковских операций у Аграрного профсоюзного акционерного коммерческого банка «АПАБАНК» (Акционерное общество) АКБ «АПАБАНК» (АО) (рег. № 2404, г. Москва, далее — АПАБАНК). По величине активов кредитная организация занимала 369 место в банковской системе Российской Федерации<sup>1</sup>. Банк не является участником системы страхования вкладов.</p>\n",
       " <p>Банк России принял такое решение в соответствии с п. 6 части первой ст. 20 Федерального закона «О банках и банковской деятельности»<sup>2</sup>, руководствуясь тем, что АПАБАНК:</p>\n",
       " <ul>\n",
       " <ul>\n",
       " <li>занижал величину необходимых к формированию резервов, а также завышал стоимость имущества в целях улучшения финансовых показателей и сокрытия своего реального финансового положения. Отражение в финансовой отчетности принимаемых кредитных рисков и реальной стоимости учтенной на балансе недвижимости по требованию Банка России выявило снижение (более 40%) капитала кредитной организации, что является реальной угрозой интересам ее кредиторов;</li>\n",
       " <li>нарушал федеральные законы, регулирующие банковскую деятельность, а также нормативные акты Банка России, в связи с чем регулятор в течение последних 12 месяцев неоднократно применял к нему меры.</li></ul></ul>\n",
       " <p>Более 70% кредитного портфеля АПАБАНКа представлено проблемными ссудами. Банк России неоднократно направлял в адрес кредитной организации предписания с требованиями об адекватной оценке принимаемых рисков и отражении в отчетности своего реального финансового положения. Исполнение требований надзорного органа приводило к возникновению оснований для осуществления мер по предупреждению несостоятельности (банкротства), что создавало реальную угрозу интересам ее кредиторов.</p>\n",
       " <p>Банк России также аннулировал лицензию на осуществление АПАБАНК профессиональной деятельности на рынке ценных бумаг.</p>\n",
       " <p>В АПАБАНК назначена временная администрация Банка России<sup>3</sup>, которая будет действовать до момента назначения конкурсного управляющего<sup>4</sup> либо ликвидатора<sup>5</sup>. Полномочия исполнительных органов кредитной организации в соответствии с федеральными законами приостановлены.</p>\n",
       " <p> </p>\n",
       " <p>\n",
       " <p><sup>1 </sup> Согласно данным отчетности на 01.01.2020.</p>\n",
       " <p>\n",
       " <p><sup>2 </sup> Решение Банка России принято в связи с неисполнением кредитной организацией федеральных законов, регулирующих банковскую деятельность, а также нормативных актов Банка России с учетом неоднократного применения в течение одного года мер, предусмотренных Федеральным законом «O Центральном банке Российской Федерации (Банке России)», принимая во внимание наличие реальной угрозы интересам кредиторов.</p>\n",
       " <p> </p></p>\n",
       " <p>\n",
       " <p><sup>3 </sup> В соответствии с приказом Банка России от 31.01.2020 № ОД-167.</p></p>\n",
       " <p>\n",
       " <p><sup>4 </sup> В соответствии со статьями 127 и 189.68 Федерального закона «О несостоятельности (банкротстве)».</p></p>\n",
       " <p>\n",
       " <p><sup>5 </sup> В соответствии со статьей 23.1 Федерального закона «О банках и банковской деятельности».</p></p></p></p>]"
      ]
     },
     "execution_count": 35,
     "metadata": {},
     "output_type": "execute_result"
    }
   ],
   "source": [
    "nuzhno = enot.find('div', attrs = {'class': 'paper_layout'})\n",
    "nuzhno1 = nuzhno.find_all(['p', 'ul'], recursive = False)\n",
    "\n",
    "nuzhno1"
   ]
  },
  {
   "cell_type": "code",
   "execution_count": 36,
   "metadata": {
    "scrolled": true
   },
   "outputs": [],
   "source": [
    "fom = []\n",
    "for i in nuzhno1:\n",
    "    i.text#.strip\n",
    "    fom.append(re.sub('<[^>]*>', '', str(i)).replace('\\xa0', ' ').split('\\n'))\n",
    "flatList = [ item for elem in fom for item in elem]\n",
    "\n",
    "msg = '\\n\\n'.join([str(i) for i in flatList])\n",
    "msg"
   ]
  },
  {
   "cell_type": "markdown",
   "metadata": {},
   "source": [
    "### Вытаскиваем финально"
   ]
  },
  {
   "cell_type": "code",
   "execution_count": 47,
   "metadata": {},
   "outputs": [],
   "source": [
    "#Вытащил тексты релизов\n",
    "bob = []\n",
    "for i in df['Link']:\n",
    "    fom1 = []\n",
    "    krot1 = requests.get(i).content.decode('utf-8')\n",
    "    enot1=BeautifulSoup(krot1, 'html.parser')\n",
    "    kot = enot1.find('div', attrs = {'class': 'paper_layout'})\n",
    "    kot1 = kot.find_all(['p', 'ul'], recursive = False)\n",
    "    for k in kot1:\n",
    "        k.text#.strip\n",
    "        fom1.append(re.sub('<[^>]*>', '', str(k)).replace('\\xa0', ' ').split('\\n'))\n",
    "    flatList1 = [ item for elem in fom1 for item in elem]\n",
    "    msg1 = str('\\n\\n'.join([str(i) for i in flatList1]))\n",
    "    bob.append(msg1)    "
   ]
  },
  {
   "cell_type": "code",
   "execution_count": 142,
   "metadata": {},
   "outputs": [],
   "source": [
    "#Вытащил причины где были\n",
    "bob2 = []\n",
    "for i in df['Link']:\n",
    "    fom2 = []\n",
    "    krot2 = requests.get(i).content.decode('utf-8')\n",
    "    enot2=BeautifulSoup(krot2, 'html.parser')\n",
    "    #kot2 = enot2.find('div', attrs = {'class': 'paper_layout'})\n",
    "    kot21 = enot2.find_all('ul')#, recursive = False)\n",
    "    for k in kot21:\n",
    "        k.text#.strip\n",
    "        fom2.append(re.sub('<[^>]*>', '', str(k)).replace('\\xa0', ' ').split('\\n'))\n",
    "    flatList2 = [ item for elem in fom2 for item in elem]\n",
    "    if len(flatList)>26:\n",
    "        bor = flatList2[11:-15]\n",
    "        bor1 = bor[len(bor)//2:]\n",
    "        msg2 = str('\\n\\n'.join([str(i) for i in bor1]))\n",
    "        bob2.append(msg2)        \n",
    "    else:\n",
    "        msg2 = str('\\n\\n'.join([str(i) for i in bor1]))\n",
    "        bob2.append(msg2)"
   ]
  },
  {
   "cell_type": "code",
   "execution_count": 143,
   "metadata": {},
   "outputs": [
    {
     "name": "stdout",
     "output_type": "stream",
     "text": [
      "732\n",
      "732\n"
     ]
    }
   ],
   "source": [
    "#Проверка на длину датасетов\n",
    "print(len(bob))\n",
    "print(len(bob2))"
   ]
  },
  {
   "cell_type": "code",
   "execution_count": 144,
   "metadata": {},
   "outputs": [
    {
     "data": {
      "text/html": [
       "<div>\n",
       "<style scoped>\n",
       "    .dataframe tbody tr th:only-of-type {\n",
       "        vertical-align: middle;\n",
       "    }\n",
       "\n",
       "    .dataframe tbody tr th {\n",
       "        vertical-align: top;\n",
       "    }\n",
       "\n",
       "    .dataframe thead th {\n",
       "        text-align: right;\n",
       "    }\n",
       "</style>\n",
       "<table border=\"1\" class=\"dataframe\">\n",
       "  <thead>\n",
       "    <tr style=\"text-align: right;\">\n",
       "      <th></th>\n",
       "      <th>Title</th>\n",
       "      <th>Date</th>\n",
       "      <th>Link</th>\n",
       "      <th>Text</th>\n",
       "      <th>Reason</th>\n",
       "    </tr>\n",
       "  </thead>\n",
       "  <tbody>\n",
       "    <tr>\n",
       "      <td>0</td>\n",
       "      <td>Об отзыве лицензии и назначении временной адми...</td>\n",
       "      <td>30.03.2006</td>\n",
       "      <td>https://www.cbr.ru/press/PR/?file=060330_09334...</td>\n",
       "      <td>Департамент внешних и общественных связей Банк...</td>\n",
       "      <td></td>\n",
       "    </tr>\n",
       "    <tr>\n",
       "      <td>1</td>\n",
       "      <td>Об отзыве лицензии на осуществление банковских...</td>\n",
       "      <td>26.01.2006</td>\n",
       "      <td>https://www.cbr.ru/press/PR/?file=060126_09213...</td>\n",
       "      <td>Департамент внешних и общественных связей Банк...</td>\n",
       "      <td></td>\n",
       "    </tr>\n",
       "    <tr>\n",
       "      <td>2</td>\n",
       "      <td>Об отзыве лицензии и назначении временной адми...</td>\n",
       "      <td>30.03.2006</td>\n",
       "      <td>https://www.cbr.ru/press/PR/?file=060330_09334...</td>\n",
       "      <td>Департамент внешних и общественных связей Банк...</td>\n",
       "      <td></td>\n",
       "    </tr>\n",
       "    <tr>\n",
       "      <td>3</td>\n",
       "      <td>Об отзыве лицензии и назначении временной адми...</td>\n",
       "      <td>23.03.2006</td>\n",
       "      <td>https://www.cbr.ru/press/PR/?file=060323_09310...</td>\n",
       "      <td>Департамент внешних и общественных связей Банк...</td>\n",
       "      <td></td>\n",
       "    </tr>\n",
       "    <tr>\n",
       "      <td>4</td>\n",
       "      <td>Об отзыве лицензии на осуществление банковских...</td>\n",
       "      <td>27.02.2006</td>\n",
       "      <td>https://www.cbr.ru/press/PR/?file=060227_09343...</td>\n",
       "      <td>Департамент внешних и общественных связей Банк...</td>\n",
       "      <td></td>\n",
       "    </tr>\n",
       "    <tr>\n",
       "      <td>...</td>\n",
       "      <td>...</td>\n",
       "      <td>...</td>\n",
       "      <td>...</td>\n",
       "      <td>...</td>\n",
       "      <td>...</td>\n",
       "    </tr>\n",
       "    <tr>\n",
       "      <td>727</td>\n",
       "      <td>Отозвана лицензия на осуществление банковских ...</td>\n",
       "      <td>10.01.2020</td>\n",
       "      <td>https://www.cbr.ru/press/PR/?file=10012020_083...</td>\n",
       "      <td>Банк России приказом от 10.01.2020 № ОД-6 отоз...</td>\n",
       "      <td>полностью утратил собственные средства вследст...</td>\n",
       "    </tr>\n",
       "    <tr>\n",
       "      <td>728</td>\n",
       "      <td>Об отзыве лицензии на осуществление банковских...</td>\n",
       "      <td>17.07.2006</td>\n",
       "      <td>https://www.cbr.ru/press/PR/?file=060717_11451...</td>\n",
       "      <td>Департамент внешних и общественных связей Банк...</td>\n",
       "      <td></td>\n",
       "    </tr>\n",
       "    <tr>\n",
       "      <td>729</td>\n",
       "      <td>Об Указании Банка России от 17 сентября 2009 г...</td>\n",
       "      <td>06.11.2009</td>\n",
       "      <td>https://www.cbr.ru/press/PR/?file=091106_16533...</td>\n",
       "      <td>Департамент внешних и общественных связей Банк...</td>\n",
       "      <td></td>\n",
       "    </tr>\n",
       "    <tr>\n",
       "      <td>730</td>\n",
       "      <td>Об информации Фонда гарантирования вкладов физ...</td>\n",
       "      <td>11.04.2013</td>\n",
       "      <td>https://www.cbr.ru/press/PR/?file=130411_18530...</td>\n",
       "      <td>Департамент внешних и общественных связей Банк...</td>\n",
       "      <td></td>\n",
       "    </tr>\n",
       "    <tr>\n",
       "      <td>731</td>\n",
       "      <td>Об отзыве у банка «РТС-Банк» лицензии на осуще...</td>\n",
       "      <td>14.03.2019</td>\n",
       "      <td>https://www.cbr.ru/press/PR/?file=14032019_074...</td>\n",
       "      <td>\\n\\nБанк России приказом от 14.03.2019 № ОД-51...</td>\n",
       "      <td></td>\n",
       "    </tr>\n",
       "  </tbody>\n",
       "</table>\n",
       "<p>732 rows × 5 columns</p>\n",
       "</div>"
      ],
      "text/plain": [
       "                                                 Title        Date  \\\n",
       "0    Об отзыве лицензии и назначении временной адми...  30.03.2006   \n",
       "1    Об отзыве лицензии на осуществление банковских...  26.01.2006   \n",
       "2    Об отзыве лицензии и назначении временной адми...  30.03.2006   \n",
       "3    Об отзыве лицензии и назначении временной адми...  23.03.2006   \n",
       "4    Об отзыве лицензии на осуществление банковских...  27.02.2006   \n",
       "..                                                 ...         ...   \n",
       "727  Отозвана лицензия на осуществление банковских ...  10.01.2020   \n",
       "728  Об отзыве лицензии на осуществление банковских...  17.07.2006   \n",
       "729  Об Указании Банка России от 17 сентября 2009 г...  06.11.2009   \n",
       "730  Об информации Фонда гарантирования вкладов физ...  11.04.2013   \n",
       "731  Об отзыве у банка «РТС-Банк» лицензии на осуще...  14.03.2019   \n",
       "\n",
       "                                                  Link  \\\n",
       "0    https://www.cbr.ru/press/PR/?file=060330_09334...   \n",
       "1    https://www.cbr.ru/press/PR/?file=060126_09213...   \n",
       "2    https://www.cbr.ru/press/PR/?file=060330_09334...   \n",
       "3    https://www.cbr.ru/press/PR/?file=060323_09310...   \n",
       "4    https://www.cbr.ru/press/PR/?file=060227_09343...   \n",
       "..                                                 ...   \n",
       "727  https://www.cbr.ru/press/PR/?file=10012020_083...   \n",
       "728  https://www.cbr.ru/press/PR/?file=060717_11451...   \n",
       "729  https://www.cbr.ru/press/PR/?file=091106_16533...   \n",
       "730  https://www.cbr.ru/press/PR/?file=130411_18530...   \n",
       "731  https://www.cbr.ru/press/PR/?file=14032019_074...   \n",
       "\n",
       "                                                  Text  \\\n",
       "0    Департамент внешних и общественных связей Банк...   \n",
       "1    Департамент внешних и общественных связей Банк...   \n",
       "2    Департамент внешних и общественных связей Банк...   \n",
       "3    Департамент внешних и общественных связей Банк...   \n",
       "4    Департамент внешних и общественных связей Банк...   \n",
       "..                                                 ...   \n",
       "727  Банк России приказом от 10.01.2020 № ОД-6 отоз...   \n",
       "728  Департамент внешних и общественных связей Банк...   \n",
       "729  Департамент внешних и общественных связей Банк...   \n",
       "730  Департамент внешних и общественных связей Банк...   \n",
       "731  \\n\\nБанк России приказом от 14.03.2019 № ОД-51...   \n",
       "\n",
       "                                                Reason  \n",
       "0                                                       \n",
       "1                                                       \n",
       "2                                                       \n",
       "3                                                       \n",
       "4                                                       \n",
       "..                                                 ...  \n",
       "727  полностью утратил собственные средства вследст...  \n",
       "728                                                     \n",
       "729                                                     \n",
       "730                                                     \n",
       "731                                                     \n",
       "\n",
       "[732 rows x 5 columns]"
      ]
     },
     "execution_count": 144,
     "metadata": {},
     "output_type": "execute_result"
    }
   ],
   "source": [
    "#Все соединил\n",
    "Text = pd.Series(bob)\n",
    "Reason = pd.Series(bob2)\n",
    "df1 = pd.concat([df, Text, Reason], axis = 1)\n",
    "df1.columns = ['Title', 'Date', 'Link', 'Text', 'Reason']\n",
    "df1"
   ]
  },
  {
   "cell_type": "code",
   "execution_count": 145,
   "metadata": {},
   "outputs": [
    {
     "data": {
      "text/html": [
       "<div>\n",
       "<style scoped>\n",
       "    .dataframe tbody tr th:only-of-type {\n",
       "        vertical-align: middle;\n",
       "    }\n",
       "\n",
       "    .dataframe tbody tr th {\n",
       "        vertical-align: top;\n",
       "    }\n",
       "\n",
       "    .dataframe thead th {\n",
       "        text-align: right;\n",
       "    }\n",
       "</style>\n",
       "<table border=\"1\" class=\"dataframe\">\n",
       "  <thead>\n",
       "    <tr style=\"text-align: right;\">\n",
       "      <th></th>\n",
       "      <th>Title</th>\n",
       "      <th>Date</th>\n",
       "      <th>Link</th>\n",
       "      <th>Text</th>\n",
       "      <th>Reason</th>\n",
       "      <th>prior_cleansing</th>\n",
       "    </tr>\n",
       "  </thead>\n",
       "  <tbody>\n",
       "    <tr>\n",
       "      <td>713</td>\n",
       "      <td>Отозвана лицензия на осуществление банковских ...</td>\n",
       "      <td>12.09.2019</td>\n",
       "      <td>https://www.cbr.ru/press/PR/?file=12092019_034...</td>\n",
       "      <td>\\n\\nБанк России приказом от 12.09.2019 № ОД-20...</td>\n",
       "      <td>допустил уменьшение величины собственных средс...</td>\n",
       "      <td>0</td>\n",
       "    </tr>\n",
       "    <tr>\n",
       "      <td>714</td>\n",
       "      <td>Отозвана лицензия на осуществление банковских ...</td>\n",
       "      <td>29.07.2019</td>\n",
       "      <td>https://www.cbr.ru/press/PR/?file=29072019_083...</td>\n",
       "      <td>\\n\\nБанк России приказом от 29.07.2019 № ОД-1...</td>\n",
       "      <td>признал отсутствие отраженных в учете и отчетн...</td>\n",
       "      <td>0</td>\n",
       "    </tr>\n",
       "    <tr>\n",
       "      <td>715</td>\n",
       "      <td>Отозвана лицензия на осуществление банковских ...</td>\n",
       "      <td>26.07.2019</td>\n",
       "      <td>https://www.cbr.ru/press/PR/?file=26072019_083...</td>\n",
       "      <td>\\n\\nБанк России приказом от 26.07.2019 № ОД-1...</td>\n",
       "      <td>занижал размер резервов на возможные потери по...</td>\n",
       "      <td>0</td>\n",
       "    </tr>\n",
       "    <tr>\n",
       "      <td>716</td>\n",
       "      <td>Отозвана лицензия на осуществление банковских ...</td>\n",
       "      <td>13.12.2019</td>\n",
       "      <td>https://www.cbr.ru/press/PR/?file=13122019_084...</td>\n",
       "      <td>\\n\\nБанк России приказом от 13.12.2019 № ОД-28...</td>\n",
       "      <td>допускал нарушения нормативных актов Банка Рос...</td>\n",
       "      <td>0</td>\n",
       "    </tr>\n",
       "    <tr>\n",
       "      <td>717</td>\n",
       "      <td>Отозвана лицензия на осуществление банковских ...</td>\n",
       "      <td>13.12.2019</td>\n",
       "      <td>https://www.cbr.ru/press/PR/?file=13122019_083...</td>\n",
       "      <td>\\n\\nБанк России приказом от 13.12.2019 № ОД-28...</td>\n",
       "      <td>полностью утратил собственные средства (капита...</td>\n",
       "      <td>0</td>\n",
       "    </tr>\n",
       "    <tr>\n",
       "      <td>718</td>\n",
       "      <td>Отозвана лицензия на осуществление банковских ...</td>\n",
       "      <td>29.11.2019</td>\n",
       "      <td>https://www.cbr.ru/press/PR/?file=29112019_083...</td>\n",
       "      <td>\\n\\nБанк России приказом от 29.11.2019 № ОД-27...</td>\n",
       "      <td>допускал нарушения законодательства в области ...</td>\n",
       "      <td>0</td>\n",
       "    </tr>\n",
       "    <tr>\n",
       "      <td>719</td>\n",
       "      <td>Отозвана лицензия на осуществление банковских ...</td>\n",
       "      <td>22.11.2019</td>\n",
       "      <td>https://www.cbr.ru/press/PR/?file=22112019_084...</td>\n",
       "      <td>\\n\\n\\n\\nБанк России приказом от 22.11.2019 № О...</td>\n",
       "      <td>допускала нарушения законодательства в области...</td>\n",
       "      <td>0</td>\n",
       "    </tr>\n",
       "    <tr>\n",
       "      <td>720</td>\n",
       "      <td>Отозвана лицензия на осуществление банковских ...</td>\n",
       "      <td>22.11.2019</td>\n",
       "      <td>https://www.cbr.ru/press/PR/?file=22112019_083...</td>\n",
       "      <td>\\n\\nБанк России приказом от 22.11.2019 № ОД-26...</td>\n",
       "      <td>допускал нарушения законодательства в области ...</td>\n",
       "      <td>0</td>\n",
       "    </tr>\n",
       "    <tr>\n",
       "      <td>721</td>\n",
       "      <td>Отозвана лицензия на осуществление банковских ...</td>\n",
       "      <td>15.11.2019</td>\n",
       "      <td>https://www.cbr.ru/press/PR/?file=15112019_083...</td>\n",
       "      <td>Банк России приказом от 15.11.2019 № ОД-2609 о...</td>\n",
       "      <td>допускал нарушения законодательства и норматив...</td>\n",
       "      <td>0</td>\n",
       "    </tr>\n",
       "    <tr>\n",
       "      <td>722</td>\n",
       "      <td>Отозвана лицензия на осуществление банковских ...</td>\n",
       "      <td>07.11.2019</td>\n",
       "      <td>https://www.cbr.ru/press/PR/?file=07112019_083...</td>\n",
       "      <td>Банк России приказом от 07.11.2019 № ОД-2565 о...</td>\n",
       "      <td>допускал нарушения законодательства и норматив...</td>\n",
       "      <td>0</td>\n",
       "    </tr>\n",
       "    <tr>\n",
       "      <td>723</td>\n",
       "      <td>Отозвана лицензия на осуществление банковских ...</td>\n",
       "      <td>01.11.2019</td>\n",
       "      <td>https://www.cbr.ru/press/PR/?file=01112019_054...</td>\n",
       "      <td>Банк России приказом от 01.11.2019 № ОД-2519 о...</td>\n",
       "      <td>допускал многочисленные нарушения законодатель...</td>\n",
       "      <td>0</td>\n",
       "    </tr>\n",
       "    <tr>\n",
       "      <td>724</td>\n",
       "      <td>Отозвана лицензия на осуществление банковских ...</td>\n",
       "      <td>31.01.2020</td>\n",
       "      <td>https://www.cbr.ru/press/PR/?file=31012020_083...</td>\n",
       "      <td>\\n\\nБанк России приказом от 31.01.2020 № ОД-16...</td>\n",
       "      <td>занижал величину необходимых к формированию ре...</td>\n",
       "      <td>0</td>\n",
       "    </tr>\n",
       "    <tr>\n",
       "      <td>725</td>\n",
       "      <td>Отозвана лицензия на осуществление банковских ...</td>\n",
       "      <td>24.01.2020</td>\n",
       "      <td>https://www.cbr.ru/press/PR/?file=24012020_074...</td>\n",
       "      <td>\\n\\nБанк России приказом от 24.01.2020 № ОД-11...</td>\n",
       "      <td>систематически занижал размер резервов на возм...</td>\n",
       "      <td>0</td>\n",
       "    </tr>\n",
       "    <tr>\n",
       "      <td>726</td>\n",
       "      <td>Отозвана лицензия на осуществление банковских ...</td>\n",
       "      <td>17.01.2020</td>\n",
       "      <td>https://www.cbr.ru/press/PR/?file=17012020_083...</td>\n",
       "      <td>\\n\\nБанк России приказом от 17.01.2020 № ОД-64...</td>\n",
       "      <td>допускал нарушения законодательства в области ...</td>\n",
       "      <td>0</td>\n",
       "    </tr>\n",
       "    <tr>\n",
       "      <td>727</td>\n",
       "      <td>Отозвана лицензия на осуществление банковских ...</td>\n",
       "      <td>10.01.2020</td>\n",
       "      <td>https://www.cbr.ru/press/PR/?file=10012020_083...</td>\n",
       "      <td>Банк России приказом от 10.01.2020 № ОД-6 отоз...</td>\n",
       "      <td>полностью утратил собственные средства вследст...</td>\n",
       "      <td>0</td>\n",
       "    </tr>\n",
       "  </tbody>\n",
       "</table>\n",
       "</div>"
      ],
      "text/plain": [
       "                                                 Title        Date  \\\n",
       "713  Отозвана лицензия на осуществление банковских ...  12.09.2019   \n",
       "714  Отозвана лицензия на осуществление банковских ...  29.07.2019   \n",
       "715  Отозвана лицензия на осуществление банковских ...  26.07.2019   \n",
       "716  Отозвана лицензия на осуществление банковских ...  13.12.2019   \n",
       "717  Отозвана лицензия на осуществление банковских ...  13.12.2019   \n",
       "718  Отозвана лицензия на осуществление банковских ...  29.11.2019   \n",
       "719  Отозвана лицензия на осуществление банковских ...  22.11.2019   \n",
       "720  Отозвана лицензия на осуществление банковских ...  22.11.2019   \n",
       "721  Отозвана лицензия на осуществление банковских ...  15.11.2019   \n",
       "722  Отозвана лицензия на осуществление банковских ...  07.11.2019   \n",
       "723  Отозвана лицензия на осуществление банковских ...  01.11.2019   \n",
       "724  Отозвана лицензия на осуществление банковских ...  31.01.2020   \n",
       "725  Отозвана лицензия на осуществление банковских ...  24.01.2020   \n",
       "726  Отозвана лицензия на осуществление банковских ...  17.01.2020   \n",
       "727  Отозвана лицензия на осуществление банковских ...  10.01.2020   \n",
       "\n",
       "                                                  Link  \\\n",
       "713  https://www.cbr.ru/press/PR/?file=12092019_034...   \n",
       "714  https://www.cbr.ru/press/PR/?file=29072019_083...   \n",
       "715  https://www.cbr.ru/press/PR/?file=26072019_083...   \n",
       "716  https://www.cbr.ru/press/PR/?file=13122019_084...   \n",
       "717  https://www.cbr.ru/press/PR/?file=13122019_083...   \n",
       "718  https://www.cbr.ru/press/PR/?file=29112019_083...   \n",
       "719  https://www.cbr.ru/press/PR/?file=22112019_084...   \n",
       "720  https://www.cbr.ru/press/PR/?file=22112019_083...   \n",
       "721  https://www.cbr.ru/press/PR/?file=15112019_083...   \n",
       "722  https://www.cbr.ru/press/PR/?file=07112019_083...   \n",
       "723  https://www.cbr.ru/press/PR/?file=01112019_054...   \n",
       "724  https://www.cbr.ru/press/PR/?file=31012020_083...   \n",
       "725  https://www.cbr.ru/press/PR/?file=24012020_074...   \n",
       "726  https://www.cbr.ru/press/PR/?file=17012020_083...   \n",
       "727  https://www.cbr.ru/press/PR/?file=10012020_083...   \n",
       "\n",
       "                                                  Text  \\\n",
       "713  \\n\\nБанк России приказом от 12.09.2019 № ОД-20...   \n",
       "714   \\n\\nБанк России приказом от 29.07.2019 № ОД-1...   \n",
       "715   \\n\\nБанк России приказом от 26.07.2019 № ОД-1...   \n",
       "716  \\n\\nБанк России приказом от 13.12.2019 № ОД-28...   \n",
       "717  \\n\\nБанк России приказом от 13.12.2019 № ОД-28...   \n",
       "718  \\n\\nБанк России приказом от 29.11.2019 № ОД-27...   \n",
       "719  \\n\\n\\n\\nБанк России приказом от 22.11.2019 № О...   \n",
       "720  \\n\\nБанк России приказом от 22.11.2019 № ОД-26...   \n",
       "721  Банк России приказом от 15.11.2019 № ОД-2609 о...   \n",
       "722  Банк России приказом от 07.11.2019 № ОД-2565 о...   \n",
       "723  Банк России приказом от 01.11.2019 № ОД-2519 о...   \n",
       "724  \\n\\nБанк России приказом от 31.01.2020 № ОД-16...   \n",
       "725  \\n\\nБанк России приказом от 24.01.2020 № ОД-11...   \n",
       "726  \\n\\nБанк России приказом от 17.01.2020 № ОД-64...   \n",
       "727  Банк России приказом от 10.01.2020 № ОД-6 отоз...   \n",
       "\n",
       "                                                Reason  prior_cleansing  \n",
       "713  допустил уменьшение величины собственных средс...                0  \n",
       "714  признал отсутствие отраженных в учете и отчетн...                0  \n",
       "715  занижал размер резервов на возможные потери по...                0  \n",
       "716  допускал нарушения нормативных актов Банка Рос...                0  \n",
       "717  полностью утратил собственные средства (капита...                0  \n",
       "718  допускал нарушения законодательства в области ...                0  \n",
       "719  допускала нарушения законодательства в области...                0  \n",
       "720  допускал нарушения законодательства в области ...                0  \n",
       "721  допускал нарушения законодательства и норматив...                0  \n",
       "722  допускал нарушения законодательства и норматив...                0  \n",
       "723  допускал многочисленные нарушения законодатель...                0  \n",
       "724  занижал величину необходимых к формированию ре...                0  \n",
       "725  систематически занижал размер резервов на возм...                0  \n",
       "726  допускал нарушения законодательства в области ...                0  \n",
       "727  полностью утратил собственные средства вследст...                0  "
      ]
     },
     "execution_count": 145,
     "metadata": {},
     "output_type": "execute_result"
    }
   ],
   "source": [
    "#Проверил в каких релизах причины были выделены отдельно\n",
    "df1['prior_cleansing']= df1['Title'].str.find('Отозван')\n",
    "df2 = df1[df1.prior_cleansing >= 0]\n",
    "df2"
   ]
  },
  {
   "cell_type": "code",
   "execution_count": 147,
   "metadata": {},
   "outputs": [
    {
     "data": {
      "text/plain": [
       "15"
      ]
     },
     "execution_count": 147,
     "metadata": {},
     "output_type": "execute_result"
    }
   ],
   "source": [
    "#Проверки\n",
    "a = df1['Title'].str.find('Отозвана')\n",
    "sum(map(lambda x : x>=0, a))"
   ]
  },
  {
   "cell_type": "code",
   "execution_count": 146,
   "metadata": {},
   "outputs": [
    {
     "data": {
      "text/plain": [
       "16"
      ]
     },
     "execution_count": 146,
     "metadata": {},
     "output_type": "execute_result"
    }
   ],
   "source": [
    "len(df1['Reason'].unique())"
   ]
  },
  {
   "cell_type": "markdown",
   "metadata": {},
   "source": [
    "### Записал датасет"
   ]
  },
  {
   "cell_type": "code",
   "execution_count": 157,
   "metadata": {},
   "outputs": [],
   "source": [
    "df1.to_excel(\"Banks.xlsx\", index = False, encoding = 'utf-8-sig')"
   ]
  },
  {
   "cell_type": "markdown",
   "metadata": {},
   "source": [
    "### Random check"
   ]
  },
  {
   "cell_type": "code",
   "execution_count": 149,
   "metadata": {},
   "outputs": [
    {
     "name": "stdout",
     "output_type": "stream",
     "text": [
      "Банк России приказом от 15.11.2019 № ОД-2609 отозвал лицензию на осуществление банковских операций у Общества с ограниченной ответственностью Коммерческий банк «Кредитинвест» ООО КБ «Кредитинвест» (рег. № 1197, Республика Дагестан, г. Кизилюрт, далее — Банк Кредитинвест). По величине активов кредитная организация занимала 386 место в банковской системе Российской Федерации1. \n",
      "\n",
      "Банк России принял такое решение в соответствии с п.п. 6 и 6.1 части первой ст. 20 Федерального закона «О банках и банковской деятельности»2, руководствуясь тем, что Банк Кредитинвест:\n",
      "\n",
      "\n",
      "\n",
      "\n",
      "\n",
      "допускал нарушения законодательства и нормативных актов Банка России в области противодействия легализации (отмыванию) доходов, полученных преступным путем, и финансированию терроризма. Кредитная организация представляла в уполномоченный орган неполную и недостоверную информацию, в том числе по операциям, подлежащим обязательному контролю;\n",
      "\n",
      "проводил сомнительные трансграничные операции;\n",
      "\n",
      "нарушал федеральные законы, регулирующие банковскую деятельность, а также нормативные акты Банка России, в связи с чем регулятор в течение последних 12 месяцев неоднократно применял к нему меры.\n",
      "\n",
      "Инспекционная проверка деятельности Банка Кредитинвест выявила многочисленные нарушения требований нормативных актов Банка России в области порядка ведения кассовых операций, а также обеспечения информационной безопасности.\n",
      "\n",
      "В Банк Кредитинвест назначена временная администрация Банка России3, которая будет действовать до момента назначения конкурсного управляющего4 либо ликвидатора5. Полномочия исполнительных органов кредитной организации в соответствии с федеральными законами приостановлены.\n",
      "\n",
      " \n",
      "\n",
      "Информация для вкладчиков: Банк Кредитинвест является участником системы страхования вкладов, поэтому суммы вкладов будут возвращены вкладчикам6 в размере 100% остатка средств, но не более 1,4 млн рублей в совокупности на одного вкладчика (с учетом начисленных процентов по вкладам). \n",
      "\n",
      "Выплата вкладов производится Государственной корпорацией «Агентство по страхованию вкладов» (далее — Агентство). Подробная информация о порядке выплат может быть получена вкладчиками круглосуточно по телефону горячей линии Агентства (8 800 200-08-05), а также на сайте Агентства в сети Интернет (https://www.asv.org.ru/) в разделе «Страхование вкладов/Страховые случаи».\n",
      "\n",
      " \n",
      "\n",
      "1  Согласно данным отчетности на 01.11.2019.\n",
      "\n",
      "2  Решение Банка России принято в связи с неисполнением федеральных законов, регулирующих банковскую деятельность, и нормативных актов Банка России, неоднократным нарушением в течение одного года требований, предусмотренных статьей 7 (за исключением пункта 3 статьи 7) Федерального закона «O противодействии легализации (отмыванию) доходов, полученных преступным путем, и финансированию терроризма», а также требований нормативных актов Банка России, изданных в соответствии с указанным Федеральным законом, с учетом неоднократного применения в течение одного года мер, предусмотренных Федеральным законом «O Центральном банке Российской Федерации (Банке России)».\n",
      "\n",
      "3  В соответствии с приказом Банка России от 15.11.2019 № ОД-2610.\n",
      "\n",
      "4  В соответствии со статьями 127 и 189.68 Федерального закона «О несостоятельности (банкротстве)».\n",
      "\n",
      "5  В соответствии со статьей 23.1 Федерального закона «О банках и банковской деятельности».\n",
      "\n",
      "6  Вкладчики — это физические лица, в том числе осуществляющие предпринимательскую деятельность (индивидуальные предприниматели), а также юридические лица, отнесенные к малым предприятиям в соответствии с Федеральным законом «О развитии малого и среднего предпринимательства в Российской Федерации».\n"
     ]
    }
   ],
   "source": [
    "print(df1['Text'][721])"
   ]
  },
  {
   "cell_type": "code",
   "execution_count": 150,
   "metadata": {},
   "outputs": [
    {
     "name": "stdout",
     "output_type": "stream",
     "text": [
      "https://www.cbr.ru/press/PR/?file=15112019_083613ik2019-11-15T08_34_25.htm\n"
     ]
    }
   ],
   "source": [
    "print(df1['Link'][721])"
   ]
  },
  {
   "cell_type": "code",
   "execution_count": 148,
   "metadata": {},
   "outputs": [
    {
     "name": "stdout",
     "output_type": "stream",
     "text": [
      "допускал нарушения законодательства и нормативных актов Банка России в области противодействия легализации (отмыванию) доходов, полученных преступным путем, и финансированию терроризма. Кредитная организация представляла в уполномоченный орган неполную и недостоверную информацию, в том числе по операциям, подлежащим обязательному контролю;\n",
      "\n",
      "проводил сомнительные трансграничные операции;\n",
      "\n",
      "нарушал федеральные законы, регулирующие банковскую деятельность, а также нормативные акты Банка России, в связи с чем регулятор в течение последних 12 месяцев неоднократно применял к нему меры.\n",
      "\n",
      "\n",
      "\n",
      "\n"
     ]
    }
   ],
   "source": [
    "print(df2['Reason'][721])"
   ]
  }
 ],
 "metadata": {
  "kernelspec": {
   "display_name": "Python 3",
   "language": "python",
   "name": "python3"
  },
  "language_info": {
   "codemirror_mode": {
    "name": "ipython",
    "version": 3
   },
   "file_extension": ".py",
   "mimetype": "text/x-python",
   "name": "python",
   "nbconvert_exporter": "python",
   "pygments_lexer": "ipython3",
   "version": "3.7.4"
  }
 },
 "nbformat": 4,
 "nbformat_minor": 2
}
